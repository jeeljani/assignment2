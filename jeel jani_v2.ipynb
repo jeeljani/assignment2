{
  "cells": [
    {
      "cell_type": "code",
      "execution_count": 1,
      "id": "brave-bahamas",
      "metadata": {
        "execution": {
          "iopub.execute_input": "2022-05-05T11:55:51.227034Z",
          "iopub.status.busy": "2022-05-05T11:55:51.226368Z",
          "iopub.status.idle": "2022-05-05T11:55:52.513710Z",
          "shell.execute_reply": "2022-05-05T11:55:52.515696Z",
          "shell.execute_reply.started": "2022-05-05T11:54:38.310614Z"
        },
        "id": "brave-bahamas",
        "papermill": {
          "duration": 1.336811,
          "end_time": "2022-05-05T11:55:52.515891",
          "exception": false,
          "start_time": "2022-05-05T11:55:51.179080",
          "status": "completed"
        },
        "tags": []
      },
      "outputs": [],
      "source": [
        "import pandas as pd\n",
        "import matplotlib.pyplot as plt\n",
        "import numpy as np\n",
        "import seaborn as sns\n",
        "from sklearn.model_selection import train_test_split\n",
        "from sklearn.preprocessing import StandardScaler \n",
        "from sklearn.linear_model import LogisticRegression\n",
        "from sklearn.metrics import confusion_matrix\n",
        "from sklearn.metrics import accuracy_score as acs\n",
        "from sklearn.metrics import precision_recall_fscore_support as score\n",
        "from sklearn.svm import SVC"
      ]
    },
    {
      "cell_type": "code",
      "execution_count": 2,
      "id": "streaming-throat",
      "metadata": {
        "colab": {
          "base_uri": "https://localhost:8080/",
          "height": 317
        },
        "execution": {
          "iopub.execute_input": "2022-05-05T11:55:52.625922Z",
          "iopub.status.busy": "2022-05-05T11:55:52.625284Z",
          "iopub.status.idle": "2022-05-05T11:55:52.684593Z",
          "shell.execute_reply": "2022-05-05T11:55:52.685126Z",
          "shell.execute_reply.started": "2022-05-05T11:54:39.618605Z"
        },
        "id": "streaming-throat",
        "outputId": "48c0a6f5-c4f3-4bab-f9a6-51208e3cdaaa",
        "papermill": {
          "duration": 0.110083,
          "end_time": "2022-05-05T11:55:52.685308",
          "exception": false,
          "start_time": "2022-05-05T11:55:52.575225",
          "status": "completed"
        },
        "tags": []
      },
      "outputs": [
        {
          "data": {
            "text/html": [
              "\n",
              "  <div id=\"df-dfc27989-fbb3-4504-bfcc-b75c68be244b\">\n",
              "    <div class=\"colab-df-container\">\n",
              "      <div>\n",
              "<style scoped>\n",
              "    .dataframe tbody tr th:only-of-type {\n",
              "        vertical-align: middle;\n",
              "    }\n",
              "\n",
              "    .dataframe tbody tr th {\n",
              "        vertical-align: top;\n",
              "    }\n",
              "\n",
              "    .dataframe thead th {\n",
              "        text-align: right;\n",
              "    }\n",
              "</style>\n",
              "<table border=\"1\" class=\"dataframe\">\n",
              "  <thead>\n",
              "    <tr style=\"text-align: right;\">\n",
              "      <th></th>\n",
              "      <th>id</th>\n",
              "      <th>diagnosis</th>\n",
              "      <th>radius_mean</th>\n",
              "      <th>texture_mean</th>\n",
              "      <th>perimeter_mean</th>\n",
              "      <th>area_mean</th>\n",
              "      <th>smoothness_mean</th>\n",
              "      <th>compactness_mean</th>\n",
              "      <th>concavity_mean</th>\n",
              "      <th>concave points_mean</th>\n",
              "      <th>...</th>\n",
              "      <th>radius_worst</th>\n",
              "      <th>texture_worst</th>\n",
              "      <th>perimeter_worst</th>\n",
              "      <th>area_worst</th>\n",
              "      <th>smoothness_worst</th>\n",
              "      <th>compactness_worst</th>\n",
              "      <th>concavity_worst</th>\n",
              "      <th>concave points_worst</th>\n",
              "      <th>symmetry_worst</th>\n",
              "      <th>fractal_dimension_worst</th>\n",
              "    </tr>\n",
              "  </thead>\n",
              "  <tbody>\n",
              "    <tr>\n",
              "      <th>0</th>\n",
              "      <td>842302</td>\n",
              "      <td>M</td>\n",
              "      <td>17.99</td>\n",
              "      <td>10.38</td>\n",
              "      <td>122.80</td>\n",
              "      <td>1001.0</td>\n",
              "      <td>0.11840</td>\n",
              "      <td>0.27760</td>\n",
              "      <td>0.3001</td>\n",
              "      <td>0.14710</td>\n",
              "      <td>...</td>\n",
              "      <td>25.38</td>\n",
              "      <td>17.33</td>\n",
              "      <td>184.60</td>\n",
              "      <td>2019.0</td>\n",
              "      <td>0.1622</td>\n",
              "      <td>0.6656</td>\n",
              "      <td>0.7119</td>\n",
              "      <td>0.2654</td>\n",
              "      <td>0.4601</td>\n",
              "      <td>0.11890</td>\n",
              "    </tr>\n",
              "    <tr>\n",
              "      <th>1</th>\n",
              "      <td>842517</td>\n",
              "      <td>M</td>\n",
              "      <td>20.57</td>\n",
              "      <td>17.77</td>\n",
              "      <td>132.90</td>\n",
              "      <td>1326.0</td>\n",
              "      <td>0.08474</td>\n",
              "      <td>0.07864</td>\n",
              "      <td>0.0869</td>\n",
              "      <td>0.07017</td>\n",
              "      <td>...</td>\n",
              "      <td>24.99</td>\n",
              "      <td>23.41</td>\n",
              "      <td>158.80</td>\n",
              "      <td>1956.0</td>\n",
              "      <td>0.1238</td>\n",
              "      <td>0.1866</td>\n",
              "      <td>0.2416</td>\n",
              "      <td>0.1860</td>\n",
              "      <td>0.2750</td>\n",
              "      <td>0.08902</td>\n",
              "    </tr>\n",
              "    <tr>\n",
              "      <th>2</th>\n",
              "      <td>84300903</td>\n",
              "      <td>M</td>\n",
              "      <td>19.69</td>\n",
              "      <td>21.25</td>\n",
              "      <td>130.00</td>\n",
              "      <td>1203.0</td>\n",
              "      <td>0.10960</td>\n",
              "      <td>0.15990</td>\n",
              "      <td>0.1974</td>\n",
              "      <td>0.12790</td>\n",
              "      <td>...</td>\n",
              "      <td>23.57</td>\n",
              "      <td>25.53</td>\n",
              "      <td>152.50</td>\n",
              "      <td>1709.0</td>\n",
              "      <td>0.1444</td>\n",
              "      <td>0.4245</td>\n",
              "      <td>0.4504</td>\n",
              "      <td>0.2430</td>\n",
              "      <td>0.3613</td>\n",
              "      <td>0.08758</td>\n",
              "    </tr>\n",
              "    <tr>\n",
              "      <th>3</th>\n",
              "      <td>84348301</td>\n",
              "      <td>M</td>\n",
              "      <td>11.42</td>\n",
              "      <td>20.38</td>\n",
              "      <td>77.58</td>\n",
              "      <td>386.1</td>\n",
              "      <td>0.14250</td>\n",
              "      <td>0.28390</td>\n",
              "      <td>0.2414</td>\n",
              "      <td>0.10520</td>\n",
              "      <td>...</td>\n",
              "      <td>14.91</td>\n",
              "      <td>26.50</td>\n",
              "      <td>98.87</td>\n",
              "      <td>567.7</td>\n",
              "      <td>0.2098</td>\n",
              "      <td>0.8663</td>\n",
              "      <td>0.6869</td>\n",
              "      <td>0.2575</td>\n",
              "      <td>0.6638</td>\n",
              "      <td>0.17300</td>\n",
              "    </tr>\n",
              "    <tr>\n",
              "      <th>4</th>\n",
              "      <td>84358402</td>\n",
              "      <td>M</td>\n",
              "      <td>20.29</td>\n",
              "      <td>14.34</td>\n",
              "      <td>135.10</td>\n",
              "      <td>1297.0</td>\n",
              "      <td>0.10030</td>\n",
              "      <td>0.13280</td>\n",
              "      <td>0.1980</td>\n",
              "      <td>0.10430</td>\n",
              "      <td>...</td>\n",
              "      <td>22.54</td>\n",
              "      <td>16.67</td>\n",
              "      <td>152.20</td>\n",
              "      <td>1575.0</td>\n",
              "      <td>0.1374</td>\n",
              "      <td>0.2050</td>\n",
              "      <td>0.4000</td>\n",
              "      <td>0.1625</td>\n",
              "      <td>0.2364</td>\n",
              "      <td>0.07678</td>\n",
              "    </tr>\n",
              "  </tbody>\n",
              "</table>\n",
              "<p>5 rows × 32 columns</p>\n",
              "</div>\n",
              "      <button class=\"colab-df-convert\" onclick=\"convertToInteractive('df-dfc27989-fbb3-4504-bfcc-b75c68be244b')\"\n",
              "              title=\"Convert this dataframe to an interactive table.\"\n",
              "              style=\"display:none;\">\n",
              "        \n",
              "  <svg xmlns=\"http://www.w3.org/2000/svg\" height=\"24px\"viewBox=\"0 0 24 24\"\n",
              "       width=\"24px\">\n",
              "    <path d=\"M0 0h24v24H0V0z\" fill=\"none\"/>\n",
              "    <path d=\"M18.56 5.44l.94 2.06.94-2.06 2.06-.94-2.06-.94-.94-2.06-.94 2.06-2.06.94zm-11 1L8.5 8.5l.94-2.06 2.06-.94-2.06-.94L8.5 2.5l-.94 2.06-2.06.94zm10 10l.94 2.06.94-2.06 2.06-.94-2.06-.94-.94-2.06-.94 2.06-2.06.94z\"/><path d=\"M17.41 7.96l-1.37-1.37c-.4-.4-.92-.59-1.43-.59-.52 0-1.04.2-1.43.59L10.3 9.45l-7.72 7.72c-.78.78-.78 2.05 0 2.83L4 21.41c.39.39.9.59 1.41.59.51 0 1.02-.2 1.41-.59l7.78-7.78 2.81-2.81c.8-.78.8-2.07 0-2.86zM5.41 20L4 18.59l7.72-7.72 1.47 1.35L5.41 20z\"/>\n",
              "  </svg>\n",
              "      </button>\n",
              "      \n",
              "  <style>\n",
              "    .colab-df-container {\n",
              "      display:flex;\n",
              "      flex-wrap:wrap;\n",
              "      gap: 12px;\n",
              "    }\n",
              "\n",
              "    .colab-df-convert {\n",
              "      background-color: #E8F0FE;\n",
              "      border: none;\n",
              "      border-radius: 50%;\n",
              "      cursor: pointer;\n",
              "      display: none;\n",
              "      fill: #1967D2;\n",
              "      height: 32px;\n",
              "      padding: 0 0 0 0;\n",
              "      width: 32px;\n",
              "    }\n",
              "\n",
              "    .colab-df-convert:hover {\n",
              "      background-color: #E2EBFA;\n",
              "      box-shadow: 0px 1px 2px rgba(60, 64, 67, 0.3), 0px 1px 3px 1px rgba(60, 64, 67, 0.15);\n",
              "      fill: #174EA6;\n",
              "    }\n",
              "\n",
              "    [theme=dark] .colab-df-convert {\n",
              "      background-color: #3B4455;\n",
              "      fill: #D2E3FC;\n",
              "    }\n",
              "\n",
              "    [theme=dark] .colab-df-convert:hover {\n",
              "      background-color: #434B5C;\n",
              "      box-shadow: 0px 1px 3px 1px rgba(0, 0, 0, 0.15);\n",
              "      filter: drop-shadow(0px 1px 2px rgba(0, 0, 0, 0.3));\n",
              "      fill: #FFFFFF;\n",
              "    }\n",
              "  </style>\n",
              "\n",
              "      <script>\n",
              "        const buttonEl =\n",
              "          document.querySelector('#df-dfc27989-fbb3-4504-bfcc-b75c68be244b button.colab-df-convert');\n",
              "        buttonEl.style.display =\n",
              "          google.colab.kernel.accessAllowed ? 'block' : 'none';\n",
              "\n",
              "        async function convertToInteractive(key) {\n",
              "          const element = document.querySelector('#df-dfc27989-fbb3-4504-bfcc-b75c68be244b');\n",
              "          const dataTable =\n",
              "            await google.colab.kernel.invokeFunction('convertToInteractive',\n",
              "                                                     [key], {});\n",
              "          if (!dataTable) return;\n",
              "\n",
              "          const docLinkHtml = 'Like what you see? Visit the ' +\n",
              "            '<a target=\"_blank\" href=https://colab.research.google.com/notebooks/data_table.ipynb>data table notebook</a>'\n",
              "            + ' to learn more about interactive tables.';\n",
              "          element.innerHTML = '';\n",
              "          dataTable['output_type'] = 'display_data';\n",
              "          await google.colab.output.renderOutput(dataTable, element);\n",
              "          const docLink = document.createElement('div');\n",
              "          docLink.innerHTML = docLinkHtml;\n",
              "          element.appendChild(docLink);\n",
              "        }\n",
              "      </script>\n",
              "    </div>\n",
              "  </div>\n",
              "  "
            ],
            "text/plain": [
              "         id diagnosis  radius_mean  texture_mean  perimeter_mean  area_mean  \\\n",
              "0    842302         M        17.99         10.38          122.80     1001.0   \n",
              "1    842517         M        20.57         17.77          132.90     1326.0   \n",
              "2  84300903         M        19.69         21.25          130.00     1203.0   \n",
              "3  84348301         M        11.42         20.38           77.58      386.1   \n",
              "4  84358402         M        20.29         14.34          135.10     1297.0   \n",
              "\n",
              "   smoothness_mean  compactness_mean  concavity_mean  concave points_mean  \\\n",
              "0          0.11840           0.27760          0.3001              0.14710   \n",
              "1          0.08474           0.07864          0.0869              0.07017   \n",
              "2          0.10960           0.15990          0.1974              0.12790   \n",
              "3          0.14250           0.28390          0.2414              0.10520   \n",
              "4          0.10030           0.13280          0.1980              0.10430   \n",
              "\n",
              "   ...  radius_worst  texture_worst  perimeter_worst  area_worst  \\\n",
              "0  ...         25.38          17.33           184.60      2019.0   \n",
              "1  ...         24.99          23.41           158.80      1956.0   \n",
              "2  ...         23.57          25.53           152.50      1709.0   \n",
              "3  ...         14.91          26.50            98.87       567.7   \n",
              "4  ...         22.54          16.67           152.20      1575.0   \n",
              "\n",
              "   smoothness_worst  compactness_worst  concavity_worst  concave points_worst  \\\n",
              "0            0.1622             0.6656           0.7119                0.2654   \n",
              "1            0.1238             0.1866           0.2416                0.1860   \n",
              "2            0.1444             0.4245           0.4504                0.2430   \n",
              "3            0.2098             0.8663           0.6869                0.2575   \n",
              "4            0.1374             0.2050           0.4000                0.1625   \n",
              "\n",
              "   symmetry_worst  fractal_dimension_worst  \n",
              "0          0.4601                  0.11890  \n",
              "1          0.2750                  0.08902  \n",
              "2          0.3613                  0.08758  \n",
              "3          0.6638                  0.17300  \n",
              "4          0.2364                  0.07678  \n",
              "\n",
              "[5 rows x 32 columns]"
            ]
          },
          "metadata": {},
          "output_type": "display_data"
        }
      ],
      "source": [
        "data=pd.read_csv(\"/data.csv\")\n",
        "data.drop([\"Unnamed: 32\"],axis=1,inplace=True)\n",
        "display(data.head())"
      ]
    },
    {
      "cell_type": "code",
      "execution_count": 3,
      "id": "bottom-parent",
      "metadata": {
        "execution": {
          "iopub.execute_input": "2022-05-05T11:55:52.782938Z",
          "iopub.status.busy": "2022-05-05T11:55:52.782287Z",
          "iopub.status.idle": "2022-05-05T11:55:52.801128Z",
          "shell.execute_reply": "2022-05-05T11:55:52.800527Z",
          "shell.execute_reply.started": "2022-05-05T11:54:39.681978Z"
        },
        "id": "bottom-parent",
        "papermill": {
          "duration": 0.069969,
          "end_time": "2022-05-05T11:55:52.801275",
          "exception": false,
          "start_time": "2022-05-05T11:55:52.731306",
          "status": "completed"
        },
        "tags": []
      },
      "outputs": [],
      "source": [
        "data1=data.copy()\n",
        "def classifier(data1):\n",
        "    if data1[\"diagnosis\"]==\"M\":\n",
        "        return \"1\"\n",
        "    else:\n",
        "        return \"0\"\n",
        "data1[\"diagnosis\"] = data1.apply(classifier, axis=1) \n",
        "data1.replace([np.inf, -np.inf], np.nan, inplace=True) \n",
        "data1[\"diagnosis\"]=pd.to_numeric(data1[\"diagnosis\"],errors=\"coerce\") "
      ]
    },
    {
      "cell_type": "markdown",
      "id": "second-observer",
      "metadata": {
        "id": "second-observer",
        "papermill": {
          "duration": 0.045325,
          "end_time": "2022-05-05T11:55:52.892621",
          "exception": false,
          "start_time": "2022-05-05T11:55:52.847296",
          "status": "completed"
        },
        "tags": []
      },
      "source": [
        "# __Data Preprocessing__ "
      ]
    },
    {
      "cell_type": "code",
      "execution_count": 4,
      "id": "applicable-endorsement",
      "metadata": {
        "colab": {
          "base_uri": "https://localhost:8080/"
        },
        "execution": {
          "iopub.execute_input": "2022-05-05T11:55:52.990217Z",
          "iopub.status.busy": "2022-05-05T11:55:52.989558Z",
          "iopub.status.idle": "2022-05-05T11:55:52.992298Z",
          "shell.execute_reply": "2022-05-05T11:55:52.993019Z",
          "shell.execute_reply.started": "2022-05-05T11:54:39.703277Z"
        },
        "id": "applicable-endorsement",
        "outputId": "1f390d88-bf47-42e9-f271-67c18e6a1d7b",
        "papermill": {
          "duration": 0.054425,
          "end_time": "2022-05-05T11:55:52.993231",
          "exception": false,
          "start_time": "2022-05-05T11:55:52.938806",
          "status": "completed"
        },
        "tags": []
      },
      "outputs": [
        {
          "name": "stdout",
          "output_type": "stream",
          "text": [
            "Index(['id', 'diagnosis', 'radius_mean', 'texture_mean', 'perimeter_mean',\n",
            "       'area_mean', 'smoothness_mean', 'compactness_mean', 'concavity_mean',\n",
            "       'concave points_mean', 'symmetry_mean', 'fractal_dimension_mean',\n",
            "       'radius_se', 'texture_se', 'perimeter_se', 'area_se', 'smoothness_se',\n",
            "       'compactness_se', 'concavity_se', 'concave points_se', 'symmetry_se',\n",
            "       'fractal_dimension_se', 'radius_worst', 'texture_worst',\n",
            "       'perimeter_worst', 'area_worst', 'smoothness_worst',\n",
            "       'compactness_worst', 'concavity_worst', 'concave points_worst',\n",
            "       'symmetry_worst', 'fractal_dimension_worst'],\n",
            "      dtype='object') (569, 32)\n"
          ]
        }
      ],
      "source": [
        "print(data1.columns,data.shape)\n"
      ]
    },
    {
      "cell_type": "code",
      "execution_count": null,
      "id": "cutting-bench",
      "metadata": {
        "execution": {
          "iopub.execute_input": "2022-05-05T11:56:02.835336Z",
          "iopub.status.busy": "2022-05-05T11:56:02.834684Z",
          "iopub.status.idle": "2022-05-05T11:56:02.966922Z",
          "shell.execute_reply": "2022-05-05T11:56:02.967428Z",
          "shell.execute_reply.started": "2022-05-05T11:54:47.936074Z"
        },
        "id": "cutting-bench",
        "papermill": {
          "duration": 0.199306,
          "end_time": "2022-05-05T11:56:02.967624",
          "exception": false,
          "start_time": "2022-05-05T11:56:02.768318",
          "status": "completed"
        },
        "tags": []
      },
      "outputs": [],
      "source": [
        "#Log transform\n",
        "def log_transform(col):\n",
        "    return np.log(col[0])\n",
        "\n",
        "data1[\"compactness_mean\"]=data1[[\"compactness_mean\"]].apply(log_transform, axis=1)\n",
        "data1[\"concavity_mean\"]=data1[[\"concavity_mean\"]].apply(log_transform, axis=1)\n",
        "data1[\"concave points_mean\"]=data1[[\"concave points_mean\"]].apply(log_transform, axis=1)\n",
        "data1[\"radius_se\"]=data1[[\"radius_se\"]].apply(log_transform, axis=1)\n",
        "data1[\"perimeter_se\"]=data1[[\"perimeter_se\"]].apply(log_transform, axis=1)\n",
        "data1[\"smoothness_se\"]=data1[[\"smoothness_se\"]].apply(log_transform, axis=1)\n",
        "data1[\"compactness_se\"]=data1[[\"compactness_se\"]].apply(log_transform, axis=1)\n",
        "data1[\"concavity_se\"]=data1[[\"concavity_se\"]].apply(log_transform, axis=1)\n",
        "data1[\"symmetry_se\"]=data1[[\"symmetry_se\"]].apply(log_transform, axis=1)\n",
        "data1[\"fractal_dimension_se\"]=data1[[\"fractal_dimension_se\"]].apply(log_transform, axis=1)\n",
        "data1[\"area_worst\"]=data1[[\"area_worst\"]].apply(log_transform, axis=1)\n",
        "data1[\"compactness_worst\"]=data1[[\"compactness_worst\"]].apply(log_transform, axis=1)\n",
        "data1[\"concavity_worst\"]=data1[[\"concavity_worst\"]].apply(log_transform, axis=1)"
      ]
    },
    {
      "cell_type": "markdown",
      "id": "executive-intention",
      "metadata": {
        "id": "executive-intention",
        "papermill": {
          "duration": 0.106159,
          "end_time": "2022-05-05T11:56:19.982063",
          "exception": false,
          "start_time": "2022-05-05T11:56:19.875904",
          "status": "completed"
        },
        "tags": []
      },
      "source": [
        "**Split data into training and testing sets**"
      ]
    },
    {
      "cell_type": "code",
      "execution_count": 5,
      "id": "hundred-passport",
      "metadata": {
        "execution": {
          "iopub.execute_input": "2022-05-05T11:56:20.196979Z",
          "iopub.status.busy": "2022-05-05T11:56:20.196331Z",
          "iopub.status.idle": "2022-05-05T11:56:20.260410Z",
          "shell.execute_reply": "2022-05-05T11:56:20.260927Z",
          "shell.execute_reply.started": "2022-05-05T11:55:01.458216Z"
        },
        "id": "hundred-passport",
        "papermill": {
          "duration": 0.173297,
          "end_time": "2022-05-05T11:56:20.261132",
          "exception": false,
          "start_time": "2022-05-05T11:56:20.087835",
          "status": "completed"
        },
        "tags": []
      },
      "outputs": [],
      "source": [
        "X=data1.iloc[:,2:32]\n",
        "Y=data1.iloc[:,1]\n",
        "\n",
        "for col in X.columns:\n",
        "    X[col][np.isinf(X[col])]=X[col].mean()\n",
        "\n",
        "X_train,X_test,Y_train,Y_test=train_test_split(X,Y,test_size=0.2,random_state=0)"
      ]
    },
    {
      "cell_type": "code",
      "execution_count": 6,
      "id": "loaded-procurement",
      "metadata": {
        "execution": {
          "iopub.execute_input": "2022-05-05T11:56:20.477126Z",
          "iopub.status.busy": "2022-05-05T11:56:20.476388Z",
          "iopub.status.idle": "2022-05-05T11:56:20.486088Z",
          "shell.execute_reply": "2022-05-05T11:56:20.486633Z",
          "shell.execute_reply.started": "2022-05-05T11:55:01.534330Z"
        },
        "id": "loaded-procurement",
        "papermill": {
          "duration": 0.120323,
          "end_time": "2022-05-05T11:56:20.486810",
          "exception": false,
          "start_time": "2022-05-05T11:56:20.366487",
          "status": "completed"
        },
        "tags": []
      },
      "outputs": [],
      "source": [
        "selected_features=data1.corr().diagnosis.sort_values(ascending=False).iloc[1:21][::-1].index\n",
        "X_train = X_train[selected_features]\n",
        "X_test = X_test[selected_features]\n"
      ]
    },
    {
      "cell_type": "code",
      "execution_count": 7,
      "id": "moving-sending",
      "metadata": {
        "execution": {
          "iopub.execute_input": "2022-05-05T11:56:20.700487Z",
          "iopub.status.busy": "2022-05-05T11:56:20.699855Z",
          "iopub.status.idle": "2022-05-05T11:56:20.712823Z",
          "shell.execute_reply": "2022-05-05T11:56:20.713354Z",
          "shell.execute_reply.started": "2022-05-05T11:55:01.545398Z"
        },
        "id": "moving-sending",
        "papermill": {
          "duration": 0.121285,
          "end_time": "2022-05-05T11:56:20.713554",
          "exception": false,
          "start_time": "2022-05-05T11:56:20.592269",
          "status": "completed"
        },
        "tags": []
      },
      "outputs": [],
      "source": [
        "scaler=StandardScaler()\n",
        "X_train=scaler.fit_transform(X_train)\n",
        "X_test=scaler.fit_transform(X_test)"
      ]
    },
    {
      "cell_type": "markdown",
      "id": "ethical-utility",
      "metadata": {
        "id": "ethical-utility",
        "papermill": {
          "duration": 0.107635,
          "end_time": "2022-05-05T11:56:23.277782",
          "exception": false,
          "start_time": "2022-05-05T11:56:23.170147",
          "status": "completed"
        },
        "tags": []
      },
      "source": [
        "# Decision Tree"
      ]
    },
    {
      "cell_type": "code",
      "execution_count": 20,
      "id": "electoral-flooring",
      "metadata": {
        "colab": {
          "base_uri": "https://localhost:8080/"
        },
        "execution": {
          "iopub.execute_input": "2022-05-05T11:56:23.500123Z",
          "iopub.status.busy": "2022-05-05T11:56:23.499400Z",
          "iopub.status.idle": "2022-05-05T11:56:23.510794Z",
          "shell.execute_reply": "2022-05-05T11:56:23.510157Z",
          "shell.execute_reply.started": "2022-05-05T11:55:02.106141Z"
        },
        "id": "electoral-flooring",
        "outputId": "c80c8bd8-5b4f-49f7-94e6-b9e1128d93f9",
        "papermill": {
          "duration": 0.125317,
          "end_time": "2022-05-05T11:56:23.510928",
          "exception": false,
          "start_time": "2022-05-05T11:56:23.385611",
          "status": "completed"
        },
        "tags": []
      },
      "outputs": [
        {
          "data": {
            "text/plain": [
              "DecisionTreeClassifier(random_state=10)"
            ]
          },
          "execution_count": 20,
          "metadata": {},
          "output_type": "execute_result"
        }
      ],
      "source": [
        "tree=DecisionTreeClassifier(random_state=10)\n",
        "tree.fit(X_train,Y_train)"
      ]
    },
    {
      "cell_type": "code",
      "execution_count": 21,
      "id": "alpine-fashion",
      "metadata": {
        "execution": {
          "iopub.execute_input": "2022-05-05T11:56:23.733589Z",
          "iopub.status.busy": "2022-05-05T11:56:23.732859Z",
          "iopub.status.idle": "2022-05-05T11:56:23.734797Z",
          "shell.execute_reply": "2022-05-05T11:56:23.735407Z",
          "shell.execute_reply.started": "2022-05-05T11:55:02.122586Z"
        },
        "id": "alpine-fashion",
        "papermill": {
          "duration": 0.115823,
          "end_time": "2022-05-05T11:56:23.735576",
          "exception": false,
          "start_time": "2022-05-05T11:56:23.619753",
          "status": "completed"
        },
        "tags": []
      },
      "outputs": [],
      "source": [
        "Y_pred=tree.predict(X_test)"
      ]
    },
    {
      "cell_type": "code",
      "execution_count": 22,
      "id": "israeli-footage",
      "metadata": {
        "colab": {
          "base_uri": "https://localhost:8080/",
          "height": 384
        },
        "execution": {
          "iopub.execute_input": "2022-05-05T11:56:23.959307Z",
          "iopub.status.busy": "2022-05-05T11:56:23.958646Z",
          "iopub.status.idle": "2022-05-05T11:56:24.214352Z",
          "shell.execute_reply": "2022-05-05T11:56:24.213811Z",
          "shell.execute_reply.started": "2022-05-05T11:55:02.129362Z"
        },
        "id": "israeli-footage",
        "outputId": "1ed51cbb-5b14-456c-bd7e-520dac8aa0a8",
        "papermill": {
          "duration": 0.36806,
          "end_time": "2022-05-05T11:56:24.214499",
          "exception": false,
          "start_time": "2022-05-05T11:56:23.846439",
          "status": "completed"
        },
        "tags": []
      },
      "outputs": [
        {
          "name": "stdout",
          "output_type": "stream",
          "text": [
            "Precision: 0.956 \n",
            "Recall: 0.915 \n",
            "F1-Score: 0.935 \n",
            "Accuracy: 94.74000000000001% \n",
            "\n"
          ]
        },
        {
          "data": {
            "image/png": "[encoded data removed]",
            "text/plain": [
              "<Figure size 432x288 with 2 Axes>"
            ]
          },
          "metadata": {
            "needs_background": "light"
          },
          "output_type": "display_data"
        }
      ],
      "source": [
        "cm=confusion_matrix(Y_pred,Y_test)\n",
        "class_label = [\"malignant\", \"benign\"]\n",
        "df_cm = pd.DataFrame(cm, index=class_label,columns=class_label)\n",
        "\n",
        "precision, recall, fscore, train_support = score(Y_test, Y_pred, pos_label=1, average='binary')\n",
        "Decision_Tree_accuracy=round(acs(Y_test,Y_pred), 4)*100\n",
        "print('Precision: {} \\nRecall: {} \\nF1-Score: {} \\nAccuracy: {}'.format(\n",
        "    round(precision, 3), round(recall, 3), round(fscore,3), Decision_Tree_accuracy) +\"% \\n\")\n",
        "\n",
        "sns.heatmap(df_cm,annot=True,cmap='Pastel1',linewidths=2,fmt='d')\n",
        "plt.title(\"Confusion Matrix\",fontsize=15)\n",
        "plt.xlabel(\"Predicted\")\n",
        "plt.ylabel(\"True\")\n",
        "plt.show()"
      ]
    }
  ],
  "metadata": {
    "colab": {
      "name": "breast-cancer-classification-jeel.ipynb",
      "provenance": []
    },
    "kernelspec": {
      "display_name": "Python 3",
      "language": "python",
      "name": "python3"
    },
    "language_info": {
      "codemirror_mode": {
        "name": "ipython",
        "version": 3
      },
      "file_extension": ".py",
      "mimetype": "text/x-python",
      "name": "python",
      "nbconvert_exporter": "python",
      "pygments_lexer": "ipython3",
      "version": "3.7.10"
    },
    "papermill": {
      "default_parameters": {},
      "duration": 52.991777,
      "end_time": "2022-05-05T11:56:36.009099",
      "environment_variables": {},
      "exception": null,
      "input_path": "__notebook__.ipynb",
      "output_path": "__notebook__.ipynb",
      "parameters": {},
      "start_time": "2022-05-05T11:55:43.017322",
      "version": "2.3.3"
    }
  },
  "nbformat": 4,
  "nbformat_minor": 5
}
